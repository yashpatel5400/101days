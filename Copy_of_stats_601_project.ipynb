{
  "cells": [
    {
      "cell_type": "markdown",
      "metadata": {
        "id": "view-in-github",
        "colab_type": "text"
      },
      "source": [
        "<a href=\"https://colab.research.google.com/github/yashpatel5400/101days/blob/master/Copy_of_stats_601_project.ipynb\" target=\"_parent\"><img src=\"https://colab.research.google.com/assets/colab-badge.svg\" alt=\"Open In Colab\"/></a>"
      ]
    },
    {
      "cell_type": "code",
      "execution_count": 94,
      "metadata": {
        "id": "ccADqYamxwt0",
        "colab": {
          "base_uri": "https://localhost:8080/"
        },
        "outputId": "1ea1a291-e84e-42ca-efcb-cd73fc388f5f"
      },
      "outputs": [
        {
          "output_type": "execute_result",
          "data": {
            "text/plain": [
              "('volu.csv', <http.client.HTTPMessage at 0x7f995cc9ced0>)"
            ]
          },
          "metadata": {},
          "execution_count": 94
        }
      ],
      "source": [
        "import os\n",
        "import datetime\n",
        "import time\n",
        "import numpy as np\n",
        "import matplotlib.pyplot as plt\n",
        "import pandas as pd\n",
        "import lightgbm as lgb\n",
        "import urllib.request\n",
        "\n",
        "url = \"https://media.githubusercontent.com/media/yashpatel5400/crypto-prediction/main/log_pr.csv\"\n",
        "urllib.request.urlretrieve(url, \"log_pr.csv\")\n",
        "\n",
        "url = \"https://media.githubusercontent.com/media/yashpatel5400/crypto-prediction/main/volu.csv\"\n",
        "urllib.request.urlretrieve(url, \"volu.csv\")"
      ]
    },
    {
      "cell_type": "code",
      "source": [
        "log_pr = pd.read_csv(\"log_pr.csv\", index_col= 0)\n",
        "volu = pd.read_csv(\"volu.csv\", index_col= 0)\n",
        "\n",
        "log_pr.index = pd.to_datetime(log_pr.index)\n",
        "volu.index = pd.to_datetime(volu.index)"
      ],
      "metadata": {
        "id": "9KV8jE9ryGMl"
      },
      "execution_count": 95,
      "outputs": []
    },
    {
      "cell_type": "code",
      "source": [
        "# produces the *indices* of **original** dataset that will be used for training/test\n",
        "# these are then fed into the feature constructor, which pulls the windows from those indices\n",
        "\n",
        "prediction_pts = log_pr.index[1440::10].values.copy() # predictions every 10 minutes\n",
        "permutation = np.random.permutation(len(prediction_pts)) + 1440 # shift all indices, since we index starting from 1440\n",
        "\n",
        "num_test = 5000\n",
        "train_pts = permutation[:-num_test]\n",
        "test_pts = permutation[-num_test:]"
      ],
      "metadata": {
        "id": "akmWyd2-_uJI"
      },
      "execution_count": 96,
      "outputs": []
    },
    {
      "cell_type": "code",
      "source": [
        "def construct_features(log_pr_df, vol_df):\n",
        "    df = log_pr_df.copy()\n",
        "    ema21 = log_pr_df.ewm(span=21, min_periods=5, adjust=False).mean().fillna(1)\n",
        "    ema35 = log_pr_df.ewm(span=35, min_periods=10, adjust=False).mean().fillna(1)\n",
        "    ema80 = log_pr_df.ewm(span=80, min_periods=20, adjust=False).mean().fillna(1)\n",
        "    ema250 = log_pr_df.ewm(span=250, min_periods=30, adjust=False).mean().fillna(1)\n",
        "\n",
        "    df = pd.concat([df, np.log(vol_df + 1), ema21, ema35, ema80, ema250], axis=1)\n",
        "    return df"
      ],
      "metadata": {
        "id": "eRn3ihxa2ENe"
      },
      "execution_count": 97,
      "outputs": []
    },
    {
      "cell_type": "code",
      "execution_count": 98,
      "metadata": {
        "id": "yrHfzn9Zxwt2"
      },
      "outputs": [],
      "source": [
        "def construct_dataset(window_size, features, log_prices, train_indices):\n",
        "    \"\"\"\n",
        "    window: look-back window size for constructing X (in minutes)\n",
        "    features: feature engineered df\n",
        "    log_prices: original log prices df\n",
        "    train_indices: indices of rows to be pulled for training dataset\n",
        "    \"\"\"\n",
        "    window_dt = datetime.timedelta(minutes=window_size)\n",
        "    predict_dt = datetime.timedelta(minutes=30)\n",
        "\n",
        "    window_X = []\n",
        "    window_y = []\n",
        "\n",
        "    for t in features.index[train_indices]: # compute the predictions every 10 minutes\n",
        "      window_X.append(features.loc[(t - window_dt):t])\n",
        "      window_y.append(log_prices.loc[t + predict_dt] - log_prices.loc[t])\n",
        "        \n",
        "    return np.array(window_X), np.array(window_y)"
      ]
    },
    {
      "cell_type": "code",
      "source": [
        "features = construct_features(log_pr, volu)\n",
        "window_size = 60 # in minutes\n",
        "X_train, y_train = construct_dataset(window_size, features, log_pr, train_pts)"
      ],
      "metadata": {
        "id": "YNSlCpcVeBhc"
      },
      "execution_count": 99,
      "outputs": []
    },
    {
      "cell_type": "markdown",
      "source": [
        "#LSTMs"
      ],
      "metadata": {
        "id": "ZS5aTovmSQTc"
      }
    },
    {
      "cell_type": "code",
      "source": [
        "import torch\n",
        "import torch.nn as nn\n",
        "import torch.nn.functional as F\n",
        "import torch.optim as optim\n",
        "from torch.autograd import Variable \n",
        "\n",
        "if torch.cuda.is_available():\n",
        "  device = torch.device(\"cuda\")\n",
        "else:\n",
        "  device = torch.device(\"cpu\")\n",
        "\n",
        "print(device)"
      ],
      "metadata": {
        "colab": {
          "base_uri": "https://localhost:8080/"
        },
        "id": "izfnP2X2ZrLz",
        "outputId": "ccb832e0-14ef-4e50-f30e-233daaf31766"
      },
      "execution_count": 100,
      "outputs": [
        {
          "output_type": "stream",
          "name": "stdout",
          "text": [
            "cuda\n"
          ]
        }
      ]
    },
    {
      "cell_type": "code",
      "source": [
        "X_train_tensors = Variable(torch.Tensor(X_train).to(device))\n",
        "y_train_tensors = Variable(torch.Tensor(y_train).to(device))\n",
        "\n",
        "print(\"Training Shape\", X_train_tensors.shape, y_train_tensors.shape)"
      ],
      "metadata": {
        "colab": {
          "base_uri": "https://localhost:8080/"
        },
        "id": "Kt55VF6CYXx1",
        "outputId": "95c1431d-afe9-4ddc-9ab9-1ee40ca4b47c"
      },
      "execution_count": 101,
      "outputs": [
        {
          "output_type": "stream",
          "name": "stdout",
          "text": [
            "Training Shape torch.Size([21352, 61, 60]) torch.Size([21352, 10])\n"
          ]
        }
      ]
    },
    {
      "cell_type": "code",
      "source": [
        "class LSTM1(nn.Module):\n",
        "    def __init__(self, output_size, input_size, hidden_size, num_layers):\n",
        "        super(LSTM1, self).__init__()\n",
        "        self.output_size = output_size #number of classes\n",
        "        self.num_layers = num_layers #number of layers\n",
        "        self.input_size = input_size #input size\n",
        "        self.hidden_size = hidden_size #hidden state\n",
        "\n",
        "        self.lstm = nn.LSTM(input_size=input_size, hidden_size=hidden_size,\n",
        "                          num_layers=num_layers, batch_first=True) #lstm\n",
        "        self.fc1 = nn.Linear(hidden_size, 64)\n",
        "        self.relu1 = nn.ReLU()\n",
        "        self.fc2 = nn.Linear(64, 32)\n",
        "        self.relu2 = nn.ReLU()\n",
        "        self.fc = nn.Linear(32, output_size) #fully connected last layer\n",
        "    \n",
        "    def forward(self,x):\n",
        "        output, (hn, cn) = self.lstm(x) #lstm with input, hidden, and internal state\n",
        "        hn = hn.view(-1, self.hidden_size) #reshaping the data for Dense layer next\n",
        "        out = self.fc1(hn)\n",
        "        out = self.relu1(out)\n",
        "        out = self.fc2(out)\n",
        "        out = self.relu2(out)\n",
        "        out = self.fc(out) #Final Output\n",
        "        return out"
      ],
      "metadata": {
        "id": "CQHjSqpJSPxG"
      },
      "execution_count": 131,
      "outputs": []
    },
    {
      "cell_type": "code",
      "source": [
        "num_epochs = 100 #1000 epochs\n",
        "learning_rate = 0.001 #0.001 lr\n",
        "\n",
        "input_size = X_train.shape[-1] #number of features\n",
        "print(input_size)\n",
        "hidden_size = 16 #number of features in hidden state\n",
        "num_layers = 1 #number of stacked lstm layers\n",
        "\n",
        "output_size = 10 #number of output classes\n",
        "\n",
        "lstm1 = LSTM1(output_size, input_size, hidden_size, num_layers) \n",
        "lstm1 = lstm1.to(device)\n",
        "criterion = torch.nn.MSELoss()    # mean-squared error for regression\n",
        "optimizer = torch.optim.Adam(lstm1.parameters(), lr=learning_rate)\n",
        "\n",
        "print(X_train_tensors.shape)"
      ],
      "metadata": {
        "id": "9ndy3ZdgV94S",
        "colab": {
          "base_uri": "https://localhost:8080/"
        },
        "outputId": "0a6a618c-307a-46b0-e698-5062fba9dc0f"
      },
      "execution_count": 132,
      "outputs": [
        {
          "output_type": "stream",
          "name": "stdout",
          "text": [
            "60\n",
            "torch.Size([21352, 61, 60])\n"
          ]
        }
      ]
    },
    {
      "cell_type": "code",
      "source": [
        "for epoch in range(num_epochs):\n",
        "  outputs = lstm1.forward(X_train_tensors) \n",
        "  optimizer.zero_grad() \n",
        " \n",
        "  # obtain the loss function\n",
        "  loss = criterion(outputs, y_train_tensors)\n",
        " \n",
        "  loss.backward() \n",
        " \n",
        "  optimizer.step() #improve from loss, i.e backprop\n",
        "  if epoch % 2 == 0:\n",
        "    print(\"Epoch: %d, loss: %1.5f\" % (epoch, loss.item())) "
      ],
      "metadata": {
        "colab": {
          "base_uri": "https://localhost:8080/"
        },
        "id": "08j9WqBBWsSm",
        "outputId": "63a5e16f-f982-4468-8aeb-6b3f1438bb9e"
      },
      "execution_count": 133,
      "outputs": [
        {
          "output_type": "stream",
          "name": "stdout",
          "text": [
            "Epoch: 0, loss: 0.01106\n",
            "Epoch: 2, loss: 0.00881\n",
            "Epoch: 4, loss: 0.00697\n",
            "Epoch: 6, loss: 0.00547\n",
            "Epoch: 8, loss: 0.00427\n",
            "Epoch: 10, loss: 0.00347\n",
            "Epoch: 12, loss: 0.00285\n",
            "Epoch: 14, loss: 0.00233\n",
            "Epoch: 16, loss: 0.00184\n",
            "Epoch: 18, loss: 0.00141\n",
            "Epoch: 20, loss: 0.00102\n",
            "Epoch: 22, loss: 0.00072\n",
            "Epoch: 24, loss: 0.00051\n",
            "Epoch: 26, loss: 0.00034\n",
            "Epoch: 28, loss: 0.00022\n",
            "Epoch: 30, loss: 0.00013\n",
            "Epoch: 32, loss: 0.00008\n",
            "Epoch: 34, loss: 0.00006\n",
            "Epoch: 36, loss: 0.00006\n",
            "Epoch: 38, loss: 0.00007\n",
            "Epoch: 40, loss: 0.00007\n",
            "Epoch: 42, loss: 0.00007\n",
            "Epoch: 44, loss: 0.00006\n",
            "Epoch: 46, loss: 0.00004\n",
            "Epoch: 48, loss: 0.00004\n",
            "Epoch: 50, loss: 0.00003\n",
            "Epoch: 52, loss: 0.00003\n",
            "Epoch: 54, loss: 0.00003\n",
            "Epoch: 56, loss: 0.00002\n",
            "Epoch: 58, loss: 0.00002\n",
            "Epoch: 60, loss: 0.00002\n",
            "Epoch: 62, loss: 0.00002\n",
            "Epoch: 64, loss: 0.00002\n",
            "Epoch: 66, loss: 0.00002\n",
            "Epoch: 68, loss: 0.00002\n",
            "Epoch: 70, loss: 0.00002\n",
            "Epoch: 72, loss: 0.00002\n",
            "Epoch: 74, loss: 0.00002\n",
            "Epoch: 76, loss: 0.00002\n",
            "Epoch: 78, loss: 0.00002\n",
            "Epoch: 80, loss: 0.00001\n",
            "Epoch: 82, loss: 0.00001\n",
            "Epoch: 84, loss: 0.00001\n",
            "Epoch: 86, loss: 0.00001\n",
            "Epoch: 88, loss: 0.00001\n",
            "Epoch: 90, loss: 0.00001\n",
            "Epoch: 92, loss: 0.00001\n",
            "Epoch: 94, loss: 0.00001\n",
            "Epoch: 96, loss: 0.00001\n",
            "Epoch: 98, loss: 0.00001\n"
          ]
        }
      ]
    },
    {
      "cell_type": "code",
      "source": [
        "lstm1 = lstm1.to(torch.device(\"cpu\"))\n",
        "torch.save(lstm1.state_dict(), \"/content/lstm_model.pth\")"
      ],
      "metadata": {
        "id": "yzZ-1cPQc436"
      },
      "execution_count": 134,
      "outputs": []
    },
    {
      "cell_type": "code",
      "source": [
        "print( np.expand_dims(log_pr.iloc[-31:, :].to_numpy(), 0).shape)"
      ],
      "metadata": {
        "colab": {
          "base_uri": "https://localhost:8080/"
        },
        "id": "uZvySfrKfYEQ",
        "outputId": "3f00e7b1-665a-4359-f911-ad0460ea0820"
      },
      "execution_count": 135,
      "outputs": [
        {
          "output_type": "stream",
          "name": "stdout",
          "text": [
            "(1, 31, 10)\n"
          ]
        }
      ]
    },
    {
      "cell_type": "code",
      "source": [
        "lstm1.load_state_dict(torch.load(\"/content/lstm_model.pth\"))\n",
        "lstm1.eval()\n",
        "lstm1 = lstm1.to(torch.device(\"cpu\"))"
      ],
      "metadata": {
        "id": "blDR3M_w4Kiq"
      },
      "execution_count": 136,
      "outputs": []
    },
    {
      "cell_type": "markdown",
      "source": [
        "#GBoost"
      ],
      "metadata": {
        "id": "1gf6H1IXWs9j"
      }
    },
    {
      "cell_type": "code",
      "execution_count": null,
      "metadata": {
        "id": "JDMGIEIaxwt5"
      },
      "outputs": [],
      "source": [
        "class GBoost:\n",
        "    def __init__(self, num_assets=10):\n",
        "        self.models = []\n",
        "        self.num_assets = num_assets\n",
        "\n",
        "    def fit(self, X, y):\n",
        "        for asset_index in range(10):\n",
        "            asset_X = np.array(X[:, :, asset_index])\n",
        "            asset_y = np.array(y[:, asset_index])\n",
        "\n",
        "            # X_train = np.array(one_asset_X[:-5000, :])\n",
        "            # y_train = np.array(one_asset_y[:-5000])\n",
        "\n",
        "            model = lgb.LGBMRegressor()\n",
        "            model.fit(asset_X, asset_y)\n",
        "\n",
        "            self.models.append(model)\n",
        "\n",
        "    def predict_one(self, X): #given data for just one sequence.\n",
        "        final_predictions = []\n",
        "        for asset_index in range(10):\n",
        "            features = np.expand_dims(X[-31:, asset_index], 0)\n",
        "            pred = self.models[asset_index].predict(features)\n",
        "            final_predictions.append(pred)\n",
        "        final_predictions = np.array(final_predictions).squeeze()\n",
        "        return final_predictions\n",
        "\n",
        "    def predict(self, X): #multiple sequences:\n",
        "        final_predictions = []\n",
        "        for i in range(len(X)):\n",
        "            tmp_predictions = []\n",
        "            for asset_index in range(10):\n",
        "                features = np.array(np.expand_dims(X[i, -31:, asset_index], 0))\n",
        "                pred = self.models[asset_index].predict(features)[0]\n",
        "                tmp_predictions.append(pred)\n",
        "            final_predictions.append(tmp_predictions)\n",
        "            \n",
        "        return np.array(final_predictions)\n"
      ]
    },
    {
      "cell_type": "code",
      "source": [
        "#train \n",
        "boost_model = GBoost()\n",
        "boost_model.fit(X_train, y_train)"
      ],
      "metadata": {
        "id": "h7ZBn1JEhUzC"
      },
      "execution_count": null,
      "outputs": []
    },
    {
      "cell_type": "markdown",
      "source": [
        "#Evaluation"
      ],
      "metadata": {
        "id": "PqnE4kzzhSsY"
      }
    },
    {
      "cell_type": "code",
      "execution_count": 137,
      "metadata": {
        "id": "9mprkHj3xwt6"
      },
      "outputs": [],
      "source": [
        "# Use the negative 30-minutes backward log-returns to predict the 30-minutes forward log-returns\n",
        "#predict the log price, and then do correlation\n",
        "\n",
        "def get_r_hat_baseline(A, B):\n",
        "    return -(A.iloc[-1] - A.iloc[-30]).values "
      ]
    },
    {
      "cell_type": "code",
      "execution_count": 138,
      "metadata": {
        "id": "Ii-0UMoWxwt6"
      },
      "outputs": [],
      "source": [
        "def get_r_hat_gboost(A, B):\n",
        "    preds = boost_model.predict_one(A.to_numpy())\n",
        "    return preds"
      ]
    },
    {
      "cell_type": "code",
      "source": [
        "def get_r_hat_lstm(A, B):\n",
        "  input = np.expand_dims(construct_features(A, B).values, axis=0)\n",
        "  input = Variable(torch.Tensor(input))\n",
        "  pred = lstm1(input).detach().cpu().numpy()\n",
        "  return pred.squeeze()"
      ],
      "metadata": {
        "id": "u41btF83fFM8"
      },
      "execution_count": 139,
      "outputs": []
    },
    {
      "cell_type": "code",
      "execution_count": 140,
      "metadata": {
        "id": "qMc8AuzExwt6"
      },
      "outputs": [],
      "source": [
        "# An example of get_r_hat\n",
        "\n",
        "ACTIVE_R_HAT = \"lstm\"\n",
        "\n",
        "r_hat_implementations = {\n",
        "    \"baseline\": get_r_hat_baseline, \n",
        "    \"gboost\": get_r_hat_gboost,\n",
        "    \"lstm\": get_r_hat_lstm,\n",
        "}\n",
        "\n",
        "def get_r_hat(A, B): \n",
        "    \"\"\"\n",
        "        A: 1440-by-10 dataframe of log prices with columns log_pr_0, ... , log_pr_9\n",
        "        B: 1440-by-10 dataframe of trading volumes with columns volu_0, ... , volu_9    \n",
        "        return: a numpy array of length 10, corresponding to the predictions for the forward 30-minutes returns of assets 0, 1, 2, ..., 9\n",
        "    \"\"\"\n",
        "    return r_hat_implementations[ACTIVE_R_HAT](A, B)"
      ]
    },
    {
      "cell_type": "code",
      "execution_count": 141,
      "metadata": {
        "id": "RN6LhZA_xwt7"
      },
      "outputs": [],
      "source": [
        "def get_model_corr(log_pr_df, volu_df, test_indices):\n",
        "    t0 = time.time()\n",
        "    dt = datetime.timedelta(days=1)\n",
        "    r_hat = pd.DataFrame(index=log_pr_df.index[test_indices], columns=np.arange(10), dtype=np.float64)\n",
        "    idx = 0\n",
        "    for t in log_pr_df.index[test_indices]:\n",
        "        if idx % 100 == 0:\n",
        "          print(f\"Completed: {idx}/{len(test_indices)}\")\n",
        "        idx += 1  \n",
        "        r_hat.loc[t, :] = get_r_hat(log_pr_df.loc[(t - dt):t], volu_df.loc[(t - dt):t])\n",
        "    t_used = time.time() - t0\n",
        "    \n",
        "    r_fwd = (log_pr_df.shift(-30) - log_pr_df).iloc[test_indices].rename(columns={f\"input_df_{i}\": i for i in range(10)})\n",
        "    r_fwd.corrwith(r_hat)\n",
        "    \n",
        "    r_fwd_all = r_fwd.iloc[:-3].values.ravel() # the final \"ignore_rows\" rows are NaNs. \n",
        "    r_hat_all = r_hat.iloc[:-3].values.ravel()\n",
        "    return np.corrcoef(r_fwd_all, r_hat_all)[0, 1]"
      ]
    },
    {
      "cell_type": "code",
      "execution_count": 143,
      "metadata": {
        "colab": {
          "base_uri": "https://localhost:8080/"
        },
        "id": "lIOf2aSxxwt8",
        "outputId": "e44497ba-4352-425f-a1d2-08e934c05ad7"
      },
      "outputs": [
        {
          "output_type": "stream",
          "name": "stdout",
          "text": [
            "0\n",
            "100\n",
            "200\n",
            "300\n",
            "400\n",
            "500\n",
            "600\n",
            "700\n",
            "800\n",
            "900\n",
            "1000\n",
            "1100\n",
            "1200\n",
            "1300\n",
            "1400\n",
            "1500\n",
            "1600\n",
            "1700\n",
            "1800\n",
            "1900\n",
            "2000\n",
            "2100\n",
            "2200\n",
            "2300\n",
            "2400\n",
            "2500\n",
            "2600\n",
            "2700\n",
            "2800\n",
            "2900\n",
            "3000\n",
            "3100\n",
            "3200\n",
            "3300\n",
            "3400\n",
            "3500\n",
            "3600\n",
            "3700\n",
            "3800\n",
            "3900\n",
            "4000\n",
            "4100\n",
            "4200\n",
            "4300\n",
            "4400\n",
            "4500\n",
            "4600\n",
            "4700\n",
            "4800\n",
            "4900\n"
          ]
        },
        {
          "output_type": "execute_result",
          "data": {
            "text/plain": [
              "0.00432405446260245"
            ]
          },
          "metadata": {},
          "execution_count": 143
        }
      ],
      "source": [
        "get_model_corr(log_pr, volu, test_pts)"
      ]
    },
    {
      "cell_type": "code",
      "source": [
        ""
      ],
      "metadata": {
        "id": "BkKzUqVlLB_C"
      },
      "execution_count": null,
      "outputs": []
    }
  ],
  "metadata": {
    "colab": {
      "collapsed_sections": [],
      "name": "Copy of stats_601_project.ipynb",
      "provenance": [],
      "include_colab_link": true
    },
    "kernelspec": {
      "display_name": "Python 3 (ipykernel)",
      "language": "python",
      "name": "python3"
    },
    "language_info": {
      "codemirror_mode": {
        "name": "ipython",
        "version": 3
      },
      "file_extension": ".py",
      "mimetype": "text/x-python",
      "name": "python",
      "nbconvert_exporter": "python",
      "pygments_lexer": "ipython3",
      "version": "3.8.12"
    },
    "accelerator": "GPU"
  },
  "nbformat": 4,
  "nbformat_minor": 0
}