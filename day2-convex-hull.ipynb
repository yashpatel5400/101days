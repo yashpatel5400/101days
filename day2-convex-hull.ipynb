{
 "cells": [
  {
   "cell_type": "code",
   "execution_count": 1,
   "metadata": {},
   "outputs": [],
   "source": [
    "import numpy as np\n",
    "import matplotlib\n",
    "%matplotlib inline\n",
    "import matplotlib.pyplot as plt"
   ]
  },
  {
   "cell_type": "code",
   "execution_count": 75,
   "metadata": {},
   "outputs": [
    {
     "data": {
      "image/png": "[encoded data removed]",
      "text/plain": [
       "<Figure size 432x288 with 1 Axes>"
      ]
     },
     "metadata": {
      "needs_background": "light"
     },
     "output_type": "display_data"
    }
   ],
   "source": [
    "def dist_to_line(pt, m, b):\n",
    "    line = lambda x : m * x + b\n",
    "    x_0, y_0 = pt\n",
    "    x = (x_0 + m * (b - y_0)) / (1 + m * m)\n",
    "    y = line(x)\n",
    "    closest_pt = (x, y)\n",
    "    return (x - x_0) ** 2 + (y - y_0) ** 2\n",
    "\n",
    "def furthest_point(points, m, b):\n",
    "    max_dist = -float(\"inf\")\n",
    "    pt = None\n",
    "    if len(points.shape) < 1:\n",
    "        return None\n",
    "    \n",
    "    num_points = points.shape[0]\n",
    "    for i in range(num_points):\n",
    "        pt = points[i,:]\n",
    "        dist = dist_to_line(pt, m, b)\n",
    "        if dist > max_dist:\n",
    "            best_pt = pt\n",
    "            max_dist = dist\n",
    "    return best_pt\n",
    "\n",
    "m = 2.0\n",
    "b = 3.0\n",
    "line = lambda x : m * x + b\n",
    "\n",
    "x_range = 5.0\n",
    "num_points = 15\n",
    "points = x_range * np.random.random((num_points, 2))\n",
    "\n",
    "best_pt = furthest_point(points, m, b)\n",
    "\n",
    "plt.scatter(points[:,0:1], points[:,1:2])\n",
    "plt.scatter(best_pt[0], best_pt[1])\n",
    "plt.plot(points[:,0:1], line(points[:,0:1]))\n",
    "plt.show()"
   ]
  },
  {
   "cell_type": "code",
   "execution_count": 80,
   "metadata": {},
   "outputs": [
    {
     "ename": "NameError",
     "evalue": "name 'subset' is not defined",
     "output_type": "error",
     "traceback": [
      "\u001b[0;31m---------------------------------------------------------------------------\u001b[0m",
      "\u001b[0;31mNameError\u001b[0m                                 Traceback (most recent call last)",
      "\u001b[0;32m<ipython-input-80-ffcbc644270d>\u001b[0m in \u001b[0;36m<module>\u001b[0;34m\u001b[0m\n\u001b[1;32m     45\u001b[0m \u001b[0mhull\u001b[0m \u001b[0;34m=\u001b[0m \u001b[0;34m[\u001b[0m\u001b[0msorted_points\u001b[0m\u001b[0;34m[\u001b[0m\u001b[0;36m0\u001b[0m\u001b[0;34m]\u001b[0m\u001b[0;34m,\u001b[0m \u001b[0msorted_points\u001b[0m\u001b[0;34m[\u001b[0m\u001b[0;34m-\u001b[0m\u001b[0;36m1\u001b[0m\u001b[0;34m]\u001b[0m\u001b[0;34m]\u001b[0m\u001b[0;34m\u001b[0m\u001b[0;34m\u001b[0m\u001b[0m\n\u001b[1;32m     46\u001b[0m \u001b[0mendpoints\u001b[0m \u001b[0;34m=\u001b[0m \u001b[0;34m[\u001b[0m\u001b[0;34m]\u001b[0m\u001b[0;34m\u001b[0m\u001b[0;34m\u001b[0m\u001b[0m\n\u001b[0;32m---> 47\u001b[0;31m \u001b[0mfind_hull\u001b[0m\u001b[0;34m(\u001b[0m\u001b[0mhull\u001b[0m\u001b[0;34m,\u001b[0m \u001b[0msorted_points\u001b[0m\u001b[0;34m,\u001b[0m \u001b[0mendpoints\u001b[0m\u001b[0;34m)\u001b[0m\u001b[0;34m\u001b[0m\u001b[0;34m\u001b[0m\u001b[0m\n\u001b[0m\u001b[1;32m     48\u001b[0m \u001b[0;32mfor\u001b[0m \u001b[0mendpoint\u001b[0m \u001b[0;32min\u001b[0m \u001b[0mendpoints\u001b[0m\u001b[0;34m:\u001b[0m\u001b[0;34m\u001b[0m\u001b[0;34m\u001b[0m\u001b[0m\n\u001b[1;32m     49\u001b[0m     \u001b[0mplot_line\u001b[0m\u001b[0;34m(\u001b[0m\u001b[0mendpoint\u001b[0m\u001b[0;34m)\u001b[0m\u001b[0;34m\u001b[0m\u001b[0;34m\u001b[0m\u001b[0m\n",
      "\u001b[0;32m<ipython-input-80-ffcbc644270d>\u001b[0m in \u001b[0;36mfind_hull\u001b[0;34m(prev_endpoints, points, endpoints)\u001b[0m\n\u001b[1;32m     32\u001b[0m     \u001b[0mbelow\u001b[0m \u001b[0;34m=\u001b[0m \u001b[0mnp\u001b[0m\u001b[0;34m.\u001b[0m\u001b[0marray\u001b[0m\u001b[0;34m(\u001b[0m\u001b[0mbelow\u001b[0m\u001b[0;34m)\u001b[0m\u001b[0;34m\u001b[0m\u001b[0;34m\u001b[0m\u001b[0m\n\u001b[1;32m     33\u001b[0m \u001b[0;34m\u001b[0m\u001b[0m\n\u001b[0;32m---> 34\u001b[0;31m     \u001b[0mlowest_pt\u001b[0m \u001b[0;34m=\u001b[0m \u001b[0mfurthest_point\u001b[0m\u001b[0;34m(\u001b[0m\u001b[0msubset\u001b[0m\u001b[0;34m,\u001b[0m \u001b[0mm\u001b[0m\u001b[0;34m,\u001b[0m \u001b[0mb\u001b[0m\u001b[0;34m)\u001b[0m\u001b[0;34m\u001b[0m\u001b[0;34m\u001b[0m\u001b[0m\n\u001b[0m\u001b[1;32m     35\u001b[0m     \u001b[0mhighest_pt\u001b[0m \u001b[0;34m=\u001b[0m \u001b[0mfurthest_point\u001b[0m\u001b[0;34m(\u001b[0m\u001b[0msubset\u001b[0m\u001b[0;34m,\u001b[0m \u001b[0mm\u001b[0m\u001b[0;34m,\u001b[0m \u001b[0mb\u001b[0m\u001b[0;34m)\u001b[0m\u001b[0;34m\u001b[0m\u001b[0;34m\u001b[0m\u001b[0m\n\u001b[1;32m     36\u001b[0m \u001b[0;34m\u001b[0m\u001b[0m\n",
      "\u001b[0;31mNameError\u001b[0m: name 'subset' is not defined"
     ]
    }
   ],
   "source": [
    "def get_line(pts):\n",
    "    pt0, pt1 = pts\n",
    "    x0, y0 = pt0\n",
    "    x1, y1 = pt1\n",
    "    m = (y1 - y0) / (x1 - x0)\n",
    "    b = y0 - m * x0\n",
    "    return (m, b)\n",
    "\n",
    "def plot_line(points):\n",
    "    m, b = get_line(points)\n",
    "    line_fn = lambda x : m * x + b \n",
    "    points = np.array(points)\n",
    "    plt.scatter(points[:,0:1], points[:,1:2])\n",
    "    plt.plot(points[:,0:1], line_fn(points[:,0:1]))\n",
    "\n",
    "def find_hull(prev_endpoints, points, endpoints):\n",
    "    m, b = get_line(prev_endpoints)\n",
    "    line_fn = lambda x : m * x + b\n",
    "    \n",
    "    above = []\n",
    "    below = []\n",
    "    for point in points:\n",
    "        if (point == prev_endpoints).any():\n",
    "            continue\n",
    "        x, y = point\n",
    "        if above and line_fn(x) > y: # line is below the point\n",
    "            below.append(point)\n",
    "        elif not above and line_fn(x) < y:\n",
    "            above.append(point)\n",
    "    \n",
    "    above = np.array(above)\n",
    "    below = np.array(below)\n",
    "    \n",
    "    lowest_pt = furthest_point(below, m, b)\n",
    "    highest_pt = furthest_point(subset, m, b)\n",
    "    \n",
    "    if lowest_pt is not None:\n",
    "        endpoints.append(lowest_pt)\n",
    "        find_hull([prev_endpoints[0], lowest_pt], below, endpoints)\n",
    "    if highest_pt is not None:\n",
    "        endpoints.append(highest_pt)\n",
    "        find_hull([highest_pt, prev_endpoints[1]], above, endpoints)\n",
    "        \n",
    "sorted_points = sorted(points, key=lambda x : x[0])\n",
    "hull = [sorted_points[0], sorted_points[-1]]\n",
    "endpoints = []\n",
    "find_hull(hull, sorted_points, endpoints)\n",
    "for endpoint in endpoints:\n",
    "    plot_line(endpoint)\n",
    "plt.show()"
   ]
  },
  {
   "cell_type": "code",
   "execution_count": null,
   "metadata": {},
   "outputs": [],
   "source": []
  }
 ],
 "metadata": {
  "kernelspec": {
   "display_name": "Python 3",
   "language": "python",
   "name": "python3"
  },
  "language_info": {
   "codemirror_mode": {
    "name": "ipython",
    "version": 3
   },
   "file_extension": ".py",
   "mimetype": "text/x-python",
   "name": "python",
   "nbconvert_exporter": "python",
   "pygments_lexer": "ipython3",
   "version": "3.7.5"
  }
 },
 "nbformat": 4,
 "nbformat_minor": 2
}
