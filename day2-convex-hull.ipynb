{
 "cells": [
  {
   "cell_type": "code",
   "execution_count": 1,
   "metadata": {},
   "outputs": [],
   "source": [
    "import numpy as np\n",
    "import matplotlib\n",
    "%matplotlib inline\n",
    "import matplotlib.pyplot as plt"
   ]
  },
  {
   "cell_type": "code",
   "execution_count": 108,
   "metadata": {},
   "outputs": [
    {
     "data": {
      "image/png": "[encoded data removed]",
      "text/plain": [
       "<Figure size 432x288 with 1 Axes>"
      ]
     },
     "metadata": {
      "needs_background": "light"
     },
     "output_type": "display_data"
    }
   ],
   "source": [
    "def dist_to_line(pt, m, b):\n",
    "    line = lambda x : m * x + b\n",
    "    x_0, y_0 = pt\n",
    "    x = (x_0 + m * (b - y_0)) / (1 + m * m)\n",
    "    y = line(x)\n",
    "    closest_pt = (x, y)\n",
    "    return (x - x_0) ** 2 + (y - y_0) ** 2\n",
    "\n",
    "def furthest_point(points, m, b):\n",
    "    max_dist = -float(\"inf\")\n",
    "    best_pt = None\n",
    "    if len(points.shape) < 1:\n",
    "        return None\n",
    "    \n",
    "    num_points = points.shape[0]\n",
    "    for i in range(num_points):\n",
    "        pt = points[i,:]\n",
    "        dist = dist_to_line(pt, m, b)\n",
    "        if dist > max_dist:\n",
    "            best_pt = pt\n",
    "            max_dist = dist\n",
    "    return best_pt\n",
    "\n",
    "m = 2.0\n",
    "b = 3.0\n",
    "line = lambda x : m * x + b\n",
    "\n",
    "x_range = 5.0\n",
    "num_points = 20\n",
    "points = x_range * np.random.random((num_points, 2))\n",
    "\n",
    "best_pt = furthest_point(points, m, b)\n",
    "\n",
    "plt.scatter(points[:,0:1], points[:,1:2])\n",
    "plt.scatter(best_pt[0], best_pt[1])\n",
    "plt.plot(points[:,0:1], line(points[:,0:1]))\n",
    "plt.show()"
   ]
  },
  {
   "cell_type": "code",
   "execution_count": 131,
   "metadata": {},
   "outputs": [
    {
     "name": "stderr",
     "output_type": "stream",
     "text": [
      "/Users/ypatel/.virtualenvs/lib/python3.7/site-packages/ipykernel_launcher.py:5: RuntimeWarning: invalid value encountered in double_scalars\n",
      "  \"\"\"\n"
     ]
    },
    {
     "data": {
      "image/png": "[encoded data removed]",
      "text/plain": [
       "<Figure size 432x288 with 1 Axes>"
      ]
     },
     "metadata": {
      "needs_background": "light"
     },
     "output_type": "display_data"
    }
   ],
   "source": [
    "def get_line(pts):\n",
    "    pt0, pt1 = pts\n",
    "    x0, y0 = pt0\n",
    "    x1, y1 = pt1\n",
    "    m = (y1 - y0) / (x1 - x0)\n",
    "    b = y0 - m * x0\n",
    "    return (m, b)\n",
    "\n",
    "def plot_line(points):\n",
    "    m, b = get_line(points)\n",
    "    line_fn = lambda x : m * x + b \n",
    "    points = np.array(points)\n",
    "    plt.scatter(points[:,0:1], points[:,1:2])\n",
    "    plt.plot(points[:,0:1], line_fn(points[:,0:1]))\n",
    "\n",
    "def above_below(points, endpoints):\n",
    "    m, b = get_line(endpoints)\n",
    "    line_fn = lambda x : m * x + b\n",
    "    \n",
    "    above = []\n",
    "    below = []\n",
    "    for point in points:\n",
    "        if (point == endpoints).any():\n",
    "            continue\n",
    "        x, y = point\n",
    "        if line_fn(x) > y: # line is below the point\n",
    "            below.append(point)\n",
    "        elif line_fn(x) < y:\n",
    "            above.append(point)\n",
    "    above = np.array(above)\n",
    "    below = np.array(below)\n",
    "    return above, below\n",
    "    \n",
    "def find_hull(prev_endpoints, points, endpoints):\n",
    "    above, below = above_below(points, prev_endpoints)\n",
    "    \n",
    "    lowest_pt = furthest_point(below, m, b)\n",
    "    highest_pt = furthest_point(above, m, b)\n",
    "    \n",
    "    endpoints.append(prev_endpoints[0])\n",
    "    if lowest_pt is not None:\n",
    "        endpoint_pair_ll = [prev_endpoints[0], lowest_pt]\n",
    "        endpoint_pair_lr = [lowest_pt, prev_endpoints[1]]\n",
    "        \n",
    "        # for the lower points, the points outside the hull are below the line\n",
    "        _, outside_ll = above_below(below, endpoint_pair_ll)\n",
    "        _, outside_lr = above_below(below, endpoint_pair_lr)\n",
    "        \n",
    "        find_hull(endpoint_pair_ll, outside_ll, endpoints)\n",
    "        find_hull(endpoint_pair_lr, outside_lr, endpoints)\n",
    "    if highest_pt is not None:\n",
    "        endpoint_pair_ul = [prev_endpoints[0], highest_pt]\n",
    "        endpoint_pair_ur = [highest_pt, prev_endpoints[1]]\n",
    "        \n",
    "        # for the upper points, the points outside the hull are above the line\n",
    "        outside_ul, _ = above_below(above, endpoint_pair_ul)\n",
    "        outside_ur, _ = above_below(above, endpoint_pair_ur)\n",
    "        \n",
    "        find_hull(endpoint_pair_ul, outside_ul, endpoints)\n",
    "        find_hull(endpoint_pair_ur, outside_ur, endpoints)\n",
    "    endpoints.append(prev_endpoints[1])\n",
    "        \n",
    "sorted_points = sorted(points, key=lambda x : x[0])\n",
    "hull = []\n",
    "find_hull([sorted_points[0], sorted_points[-1]], sorted_points, hull)\n",
    "for i in range(len(hull)):\n",
    "    left = hull[i]\n",
    "    right = hull[(i + 1) % len(hull)]\n",
    "    plot_line([left, right])\n",
    "    \n",
    "sorted_points = np.array(sorted_points)\n",
    "plt.scatter(points[:,0:1], points[:,1:2])\n",
    "plt.show()"
   ]
  },
  {
   "cell_type": "code",
   "execution_count": null,
   "metadata": {},
   "outputs": [],
   "source": []
  }
 ],
 "metadata": {
  "kernelspec": {
   "display_name": "Python 3",
   "language": "python",
   "name": "python3"
  },
  "language_info": {
   "codemirror_mode": {
    "name": "ipython",
    "version": 3
   },
   "file_extension": ".py",
   "mimetype": "text/x-python",
   "name": "python",
   "nbconvert_exporter": "python",
   "pygments_lexer": "ipython3",
   "version": "3.7.5"
  }
 },
 "nbformat": 4,
 "nbformat_minor": 2
}
