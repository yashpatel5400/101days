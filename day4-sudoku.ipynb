{
 "cells": [
  {
   "cell_type": "code",
   "execution_count": 8,
   "metadata": {},
   "outputs": [],
   "source": [
    "import copy\n",
    "\n",
    "# Note: the initialization code for the sudoku board along with the beautiful ASCII printing was taken from:\n",
    "# https://stackoverflow.com/questions/45471152/how-to-create-a-sudoku-puzzle-in-python\n",
    "base  = 3\n",
    "\n",
    "side  = base*base\n",
    "\n",
    "def create_board():\n",
    "    # pattern for a baseline valid solution\n",
    "    def pattern(r,c): return (base*(r%base)+r//base+c)%side\n",
    "\n",
    "    # randomize rows, columns and numbers (of valid base pattern)\n",
    "    from random import sample\n",
    "    def shuffle(s): return sample(s,len(s)) \n",
    "    rBase = range(base) \n",
    "    rows  = [ g*base + r for g in shuffle(rBase) for r in shuffle(rBase) ] \n",
    "    cols  = [ g*base + c for g in shuffle(rBase) for c in shuffle(rBase) ]\n",
    "    nums  = shuffle(range(1,base*base+1))\n",
    "    \n",
    "    board = [ [nums[pattern(r,c)] for c in cols] for r in rows ]\n",
    "    answer = copy.deepcopy(board)\n",
    "    squares = side*side\n",
    "    empties = squares * 3//4\n",
    "    for p in sample(range(squares),empties):\n",
    "        board[p//side][p%side] = 0\n",
    "    return answer, board"
   ]
  },
  {
   "cell_type": "code",
   "execution_count": 9,
   "metadata": {},
   "outputs": [],
   "source": [
    "def print_board(board):\n",
    "    base = 3\n",
    "    def expandLine(line):\n",
    "        return line[0]+line[5:9].join([line[1:5]*(base-1)]*base)+line[9:13]\n",
    "\n",
    "    line0  = expandLine(\"╔═══╤═══╦═══╗\")\n",
    "    line1  = expandLine(\"║ . │ . ║ . ║\")\n",
    "    line2  = expandLine(\"╟───┼───╫───╢\")\n",
    "    line3  = expandLine(\"╠═══╪═══╬═══╣\")\n",
    "    line4  = expandLine(\"╚═══╧═══╩═══╝\")\n",
    "\n",
    "    symbol = \" 1234567890ABCDEFGHIJKLMNOPQRSTUVWXYZ\"\n",
    "    nums   = [ [\"\"]+[symbol[n] for n in row] for row in board ]\n",
    "    print(line0)\n",
    "    for r in range(1,side+1):\n",
    "        print( \"\".join(n+s for n,s in zip(nums[r-1],line1.split(\".\"))) )\n",
    "        print([line2,line3,line4][(r%side==0)+(r%base==0)])"
   ]
  },
  {
   "cell_type": "code",
   "execution_count": 10,
   "metadata": {},
   "outputs": [
    {
     "name": "stdout",
     "output_type": "stream",
     "text": [
      "╔═══╤═══╤═══╦═══╤═══╤═══╦═══╤═══╤═══╗\n",
      "║ 5 │ 3 │ 2 ║ 7 │ 1 │ 4 ║ 9 │ 6 │ 8 ║\n",
      "╟───┼───┼───╫───┼───┼───╫───┼───┼───╢\n",
      "║ 9 │ 6 │ 8 ║ 5 │ 3 │ 2 ║ 7 │ 1 │ 4 ║\n",
      "╟───┼───┼───╫───┼───┼───╫───┼───┼───╢\n",
      "║ 7 │ 1 │ 4 ║ 9 │ 6 │ 8 ║ 5 │ 3 │ 2 ║\n",
      "╠═══╪═══╪═══╬═══╪═══╪═══╬═══╪═══╪═══╣\n",
      "║ 1 │ 8 │ 9 ║ 6 │ 2 │ 5 ║ 3 │ 4 │ 7 ║\n",
      "╟───┼───┼───╫───┼───┼───╫───┼───┼───╢\n",
      "║ 3 │ 4 │ 7 ║ 1 │ 8 │ 9 ║ 6 │ 2 │ 5 ║\n",
      "╟───┼───┼───╫───┼───┼───╫───┼───┼───╢\n",
      "║ 6 │ 2 │ 5 ║ 3 │ 4 │ 7 ║ 1 │ 8 │ 9 ║\n",
      "╠═══╪═══╪═══╬═══╪═══╪═══╬═══╪═══╪═══╣\n",
      "║ 8 │ 5 │ 6 ║ 2 │ 7 │ 3 ║ 4 │ 9 │ 1 ║\n",
      "╟───┼───┼───╫───┼───┼───╫───┼───┼───╢\n",
      "║ 4 │ 9 │ 1 ║ 8 │ 5 │ 6 ║ 2 │ 7 │ 3 ║\n",
      "╟───┼───┼───╫───┼───┼───╫───┼───┼───╢\n",
      "║ 2 │ 7 │ 3 ║ 4 │ 9 │ 1 ║ 8 │ 5 │ 6 ║\n",
      "╚═══╧═══╧═══╩═══╧═══╧═══╩═══╧═══╧═══╝\n",
      "╔═══╤═══╤═══╦═══╤═══╤═══╦═══╤═══╤═══╗\n",
      "║   │ 3 │   ║ 7 │   │ 4 ║   │   │   ║\n",
      "╟───┼───┼───╫───┼───┼───╫───┼───┼───╢\n",
      "║   │   │ 8 ║   │   │   ║   │   │   ║\n",
      "╟───┼───┼───╫───┼───┼───╫───┼───┼───╢\n",
      "║   │   │   ║ 9 │   │   ║   │   │   ║\n",
      "╠═══╪═══╪═══╬═══╪═══╪═══╬═══╪═══╪═══╣\n",
      "║   │ 8 │   ║ 6 │   │   ║   │   │ 7 ║\n",
      "╟───┼───┼───╫───┼───┼───╫───┼───┼───╢\n",
      "║   │   │   ║ 1 │ 8 │ 9 ║   │ 2 │   ║\n",
      "╟───┼───┼───╫───┼───┼───╫───┼───┼───╢\n",
      "║ 6 │   │   ║   │   │   ║   │   │ 9 ║\n",
      "╠═══╪═══╪═══╬═══╪═══╪═══╬═══╪═══╪═══╣\n",
      "║   │ 5 │ 6 ║ 2 │   │   ║   │   │   ║\n",
      "╟───┼───┼───╫───┼───┼───╫───┼───┼───╢\n",
      "║   │ 9 │   ║   │ 5 │   ║ 2 │   │   ║\n",
      "╟───┼───┼───╫───┼───┼───╫───┼───┼───╢\n",
      "║   │   │ 3 ║   │   │   ║   │   │   ║\n",
      "╚═══╧═══╧═══╩═══╧═══╧═══╩═══╧═══╧═══╝\n"
     ]
    }
   ],
   "source": [
    "answer, board = create_board()\n",
    "print_board(answer)\n",
    "print_board(board)"
   ]
  },
  {
   "cell_type": "code",
   "execution_count": null,
   "metadata": {},
   "outputs": [],
   "source": []
  }
 ],
 "metadata": {
  "kernelspec": {
   "display_name": "Python 3",
   "language": "python",
   "name": "python3"
  },
  "language_info": {
   "codemirror_mode": {
    "name": "ipython",
    "version": 3
   },
   "file_extension": ".py",
   "mimetype": "text/x-python",
   "name": "python",
   "nbconvert_exporter": "python",
   "pygments_lexer": "ipython3",
   "version": "3.7.3"
  }
 },
 "nbformat": 4,
 "nbformat_minor": 4
}
