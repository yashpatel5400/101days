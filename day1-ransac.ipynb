{
 "cells": [
  {
   "cell_type": "code",
   "execution_count": 39,
   "metadata": {},
   "outputs": [],
   "source": [
    "import numpy as np\n",
    "import random\n",
    "import matplotlib\n",
    "%matplotlib inline\n",
    "import matplotlib.pyplot as plt\n",
    "\n",
    "import sklearn.linear_model\n",
    "from sklearn.metrics import mean_squared_error"
   ]
  },
  {
   "cell_type": "code",
   "execution_count": 40,
   "metadata": {},
   "outputs": [],
   "source": [
    "def get_points(max_x, m, b):\n",
    "    expected_noise = 1.0  # assuming Y = (mX + b) + e, where e ~ N(0, 1.0)\n",
    "\n",
    "    num_inliers = 90\n",
    "    num_outliers = 10\n",
    "    desired_line = lambda x : m * x + b\n",
    "\n",
    "    xs = np.array(sorted(np.random.random(num_inliers + num_outliers)))\n",
    "    xs = xs.reshape(-1, 1) * max_x\n",
    "    ys = []\n",
    "    for i in range(num_outliers):\n",
    "        noise = np.random.normal(10, 25)\n",
    "        ys.append(desired_line(xs[num_inliers + i]) + abs(noise))\n",
    "\n",
    "    for i in range(num_inliers):\n",
    "        noise = np.random.normal(0, expected_noise)\n",
    "        ys.append(desired_line(xs[i]) + noise)\n",
    "    ys = np.array(ys).reshape(-1, 1)\n",
    "    points = np.hstack((xs, ys))\n",
    "    return points"
   ]
  },
  {
   "cell_type": "code",
   "execution_count": 41,
   "metadata": {},
   "outputs": [],
   "source": [
    "# N = iterations of RANSAC\n",
    "# s = sample size\n",
    "# d = distance to be considered well fit\n",
    "# T = number of points desired to be fit properly\n",
    "def ransac(points, N, s, d, T):\n",
    "    min_error = float(\"inf\")\n",
    "    best_model = None\n",
    "\n",
    "    xs = points[:,0:1]\n",
    "    ys = points[:,1:2]\n",
    "    for _ in range(N):\n",
    "        source = np.random.randint(0, points.shape[0], size=points.shape[0])\n",
    "        idx = np.arange(len(source))\n",
    "        np.random.shuffle(idx)\n",
    "        inds = source[idx[:s]]\n",
    "\n",
    "        sample_xs = points[inds,0:1]\n",
    "        sample_ys = points[inds,1:2]\n",
    "        model = sklearn.linear_model.LinearRegression()\n",
    "        model.fit(sample_xs, sample_ys)\n",
    "\n",
    "        predicted_ys = model.predict(xs)\n",
    "        dists = np.abs(predicted_ys - ys)\n",
    "        well_fit_inds = np.where(dists < d)[0]\n",
    "        if len(well_fit_inds) > T:\n",
    "            model = sklearn.linear_model.LinearRegression()\n",
    "            model.fit(\n",
    "                points[well_fit_inds,0:1],\n",
    "                points[well_fit_inds,1:2]\n",
    "            )\n",
    "            error = mean_squared_error(model.predict(points[:,0:1]), points[:,1:2])\n",
    "            if error < min_error:\n",
    "                min_error = error\n",
    "                best_model = model\n",
    "    return best_model"
   ]
  },
  {
   "cell_type": "code",
   "execution_count": 42,
   "metadata": {},
   "outputs": [
    {
     "data": {
      "image/png": "[encoded data removed]",
      "text/plain": [
       "<Figure size 432x288 with 1 Axes>"
      ]
     },
     "metadata": {
      "needs_background": "light"
     },
     "output_type": "display_data"
    },
    {
     "data": {
      "image/png": "[encoded data removed]",
      "text/plain": [
       "<Figure size 432x288 with 1 Axes>"
      ]
     },
     "metadata": {
      "needs_background": "light"
     },
     "output_type": "display_data"
    },
    {
     "data": {
      "text/plain": [
       "<Figure size 432x288 with 0 Axes>"
      ]
     },
     "metadata": {},
     "output_type": "display_data"
    }
   ],
   "source": [
    "def plot_model(points, model, fn):\n",
    "    xs = points[:,0:1]\n",
    "    ys = points[:,1:2]\n",
    "    plt.scatter(xs, ys, color='g')\n",
    "    plt.plot(xs, model.predict(xs), color='k')\n",
    "    plt.show()\n",
    "    plt.clf()\n",
    "\n",
    "\n",
    "points = get_points(5.0, 3, 2)\n",
    "original_model = sklearn.linear_model.LinearRegression()\n",
    "original_model.fit(points[:,0:1], points[:,1:2])\n",
    "ransac_model = ransac(points, N=100, s=20, d=1.0, T=50)\n",
    "\n",
    "plot_model(points, original_model, \"original.png\")\n",
    "plot_model(points, ransac_model, \"ransac.png\")"
   ]
  },
  {
   "cell_type": "code",
   "execution_count": null,
   "metadata": {},
   "outputs": [],
   "source": []
  }
 ],
 "metadata": {
  "kernelspec": {
   "display_name": "Python 3",
   "language": "python",
   "name": "python3"
  },
  "language_info": {
   "codemirror_mode": {
    "name": "ipython",
    "version": 3
   },
   "file_extension": ".py",
   "mimetype": "text/x-python",
   "name": "python",
   "nbconvert_exporter": "python",
   "pygments_lexer": "ipython3",
   "version": "3.7.5"
  }
 },
 "nbformat": 4,
 "nbformat_minor": 2
}
